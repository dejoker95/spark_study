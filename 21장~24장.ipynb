{
 "cells": [
  {
   "cell_type": "markdown",
   "metadata": {},
   "source": [
    "# 21장"
   ]
  },
  {
   "cell_type": "code",
   "execution_count": 1,
   "metadata": {},
   "outputs": [
    {
     "data": {
      "text/html": [
       "\n",
       "        <div>\n",
       "            <p><b>SparkContext</b></p>\n",
       "\n",
       "            <p><a href=\"http://192.168.0.8:4040\">Spark UI</a></p>\n",
       "\n",
       "            <dl>\n",
       "              <dt>Version</dt>\n",
       "                <dd><code>v3.0.1</code></dd>\n",
       "              <dt>Master</dt>\n",
       "                <dd><code>local[*]</code></dd>\n",
       "              <dt>AppName</dt>\n",
       "                <dd><code>PySparkShell</code></dd>\n",
       "            </dl>\n",
       "        </div>\n",
       "        "
      ],
      "text/plain": [
       "<SparkContext master=local[*] appName=PySparkShell>"
      ]
     },
     "execution_count": 1,
     "metadata": {},
     "output_type": "execute_result"
    }
   ],
   "source": [
    "sc"
   ]
  },
  {
   "cell_type": "code",
   "execution_count": 2,
   "metadata": {},
   "outputs": [],
   "source": [
    "static = spark.read.json('data/activity-data/')\n",
    "dataSchema = static.schema"
   ]
  },
  {
   "cell_type": "code",
   "execution_count": 3,
   "metadata": {},
   "outputs": [
    {
     "name": "stdout",
     "output_type": "stream",
     "text": [
      "+-------------+-------------------+--------+-----+------+----+-----+------------+------------+------------+\n",
      "| Arrival_Time|      Creation_Time|  Device|Index| Model|User|   gt|           x|           y|           z|\n",
      "+-------------+-------------------+--------+-----+------+----+-----+------------+------------+------------+\n",
      "|1424686735090|1424686733090638193|nexus4_1|   18|nexus4|   g|stand| 3.356934E-4|-5.645752E-4|-0.018814087|\n",
      "|1424686735292|1424688581345918092|nexus4_2|   66|nexus4|   g|stand|-0.005722046| 0.029083252| 0.005569458|\n",
      "|1424686735500|1424686733498505625|nexus4_1|   99|nexus4|   g|stand|   0.0078125|-0.017654419| 0.010025024|\n",
      "|1424686735691|1424688581745026978|nexus4_2|  145|nexus4|   g|stand|-3.814697E-4|   0.0184021|-0.013656616|\n",
      "|1424686735890|1424688581945252808|nexus4_2|  185|nexus4|   g|stand|-3.814697E-4|-0.031799316| -0.00831604|\n",
      "+-------------+-------------------+--------+-----+------+----+-----+------------+------------+------------+\n",
      "only showing top 5 rows\n",
      "\n"
     ]
    }
   ],
   "source": [
    "static.show(5)"
   ]
  },
  {
   "cell_type": "code",
   "execution_count": 4,
   "metadata": {},
   "outputs": [],
   "source": [
    "streaming = spark.readStream.schema(dataSchema).option(\"maxFilesPerTrigger\", 1)\\\n",
    ".json(\"data/activity-data\")\n",
    "activityCounts = streaming.groupBy(\"gt\").count()"
   ]
  },
  {
   "cell_type": "code",
   "execution_count": 5,
   "metadata": {},
   "outputs": [],
   "source": [
    "spark.conf.set(\"spark.sql.shuffle.partitions\", 5)"
   ]
  },
  {
   "cell_type": "code",
   "execution_count": 6,
   "metadata": {},
   "outputs": [],
   "source": [
    "activityQuery = activityCounts.writeStream.queryName(\"activity_counts\")\\\n",
    ".format(\"memory\").outputMode(\"complete\")\\\n",
    ".start()"
   ]
  },
  {
   "cell_type": "code",
   "execution_count": 7,
   "metadata": {},
   "outputs": [
    {
     "data": {
      "text/plain": [
       "[<pyspark.sql.streaming.StreamingQuery at 0x7f8f9d534510>]"
      ]
     },
     "execution_count": 7,
     "metadata": {},
     "output_type": "execute_result"
    }
   ],
   "source": [
    "spark.streams.active"
   ]
  },
  {
   "cell_type": "code",
   "execution_count": 8,
   "metadata": {},
   "outputs": [
    {
     "name": "stdout",
     "output_type": "stream",
     "text": [
      "+---+-----+\n",
      "| gt|count|\n",
      "+---+-----+\n",
      "+---+-----+\n",
      "\n",
      "+----------+-----+\n",
      "|        gt|count|\n",
      "+----------+-----+\n",
      "|       sit|12308|\n",
      "|     stand|11384|\n",
      "|stairsdown| 9363|\n",
      "|      walk|13255|\n",
      "|  stairsup|10461|\n",
      "|      null|10446|\n",
      "|      bike|10797|\n",
      "+----------+-----+\n",
      "\n",
      "+----------+-----+\n",
      "|        gt|count|\n",
      "+----------+-----+\n",
      "|       sit|36927|\n",
      "|     stand|34154|\n",
      "|stairsdown|28094|\n",
      "|      walk|39765|\n",
      "|  stairsup|31372|\n",
      "|      null|31338|\n",
      "|      bike|32389|\n",
      "+----------+-----+\n",
      "\n",
      "+----------+-----+\n",
      "|        gt|count|\n",
      "+----------+-----+\n",
      "|       sit|86169|\n",
      "|     stand|79694|\n",
      "|stairsdown|65546|\n",
      "|      walk|92781|\n",
      "|  stairsup|73196|\n",
      "|      null|73127|\n",
      "|      bike|75572|\n",
      "+----------+-----+\n",
      "\n",
      "+----------+------+\n",
      "|        gt| count|\n",
      "+----------+------+\n",
      "|       sit|135401|\n",
      "|     stand|125235|\n",
      "|stairsdown|102996|\n",
      "|      walk|145805|\n",
      "|  stairsup|115029|\n",
      "|      null|114910|\n",
      "|      bike|118759|\n",
      "+----------+------+\n",
      "\n"
     ]
    }
   ],
   "source": [
    "from time import sleep\n",
    "\n",
    "for x in range(5):\n",
    "    spark.sql(\"SELECT * FROM activity_counts\").show()\n",
    "    sleep(1)"
   ]
  },
  {
   "cell_type": "code",
   "execution_count": 9,
   "metadata": {},
   "outputs": [],
   "source": [
    "from pyspark.sql.functions import expr\n",
    "\n",
    "simpleTransform = streaming.withColumn(\"stairs\", expr(\"gt like '%stairs%'\"))\\\n",
    ".where(\"stairs\")\\\n",
    ".where(\"gt is not null\")\\\n",
    ".select(\"gt\", \"model\", \"arrival_time\", \"creation_time\")\\\n",
    ".writeStream\\\n",
    ".queryName(\"simple_transform\")\\\n",
    ".format(\"memory\")\\\n",
    ".outputMode(\"append\")\\\n",
    ".start()"
   ]
  },
  {
   "cell_type": "code",
   "execution_count": 10,
   "metadata": {},
   "outputs": [
    {
     "name": "stdout",
     "output_type": "stream",
     "text": [
      "+--------+------+-------------+-------------------+\n",
      "|      gt| model| arrival_time|      creation_time|\n",
      "+--------+------+-------------+-------------------+\n",
      "|stairsup|nexus4|1424687983801|1424689829851420571|\n",
      "|stairsup|nexus4|1424687984163|1424687982169917952|\n",
      "|stairsup|nexus4|1424687984571|1424687982572835163|\n",
      "|stairsup|nexus4|1424687984972|1424687982975667195|\n",
      "|stairsup|nexus4|1424687985370|1424687983379305060|\n",
      "|stairsup|nexus4|1424687985773|1424687983776247199|\n",
      "|stairsup|nexus4|1424687986176|1424687984179201300|\n",
      "|stairsup|nexus4|1424687986585|1424687984587465460|\n",
      "|stairsup|nexus4|1424687986982|1424687984990016762|\n",
      "|stairsup|nexus4|1424687987391|1424687985392940346|\n",
      "|stairsup|nexus4|1424687987786|1424687985795693382|\n",
      "|stairsup|nexus4|1424687988071|1424689834116578018|\n",
      "|stairsup|nexus4|1424687988275|1424687986284249290|\n",
      "|stairsup|nexus4|1424687988475|1424689834519410049|\n",
      "|stairsup|nexus4|1424687988677|1424687986681893333|\n",
      "|stairsup|nexus4|1424687988875|1424689834922242080|\n",
      "|stairsup|nexus4|1424687989077|1424687987084908470|\n",
      "|stairsup|nexus4|1424687989282|1424689835337281647|\n",
      "|stairsup|nexus4|1424687989482|1424687987487887228|\n",
      "|stairsup|nexus4|1424687989685|1424687987694399679|\n",
      "+--------+------+-------------+-------------------+\n",
      "only showing top 20 rows\n",
      "\n",
      "+--------+------+-------------+-------------------+\n",
      "|      gt| model| arrival_time|      creation_time|\n",
      "+--------+------+-------------+-------------------+\n",
      "|stairsup|nexus4|1424687983801|1424689829851420571|\n",
      "|stairsup|nexus4|1424687984163|1424687982169917952|\n",
      "|stairsup|nexus4|1424687984571|1424687982572835163|\n",
      "|stairsup|nexus4|1424687984972|1424687982975667195|\n",
      "|stairsup|nexus4|1424687985370|1424687983379305060|\n",
      "|stairsup|nexus4|1424687985773|1424687983776247199|\n",
      "|stairsup|nexus4|1424687986176|1424687984179201300|\n",
      "|stairsup|nexus4|1424687986585|1424687984587465460|\n",
      "|stairsup|nexus4|1424687986982|1424687984990016762|\n",
      "|stairsup|nexus4|1424687987391|1424687985392940346|\n",
      "|stairsup|nexus4|1424687987786|1424687985795693382|\n",
      "|stairsup|nexus4|1424687988071|1424689834116578018|\n",
      "|stairsup|nexus4|1424687988275|1424687986284249290|\n",
      "|stairsup|nexus4|1424687988475|1424689834519410049|\n",
      "|stairsup|nexus4|1424687988677|1424687986681893333|\n",
      "|stairsup|nexus4|1424687988875|1424689834922242080|\n",
      "|stairsup|nexus4|1424687989077|1424687987084908470|\n",
      "|stairsup|nexus4|1424687989282|1424689835337281647|\n",
      "|stairsup|nexus4|1424687989482|1424687987487887228|\n",
      "|stairsup|nexus4|1424687989685|1424687987694399679|\n",
      "+--------+------+-------------+-------------------+\n",
      "only showing top 20 rows\n",
      "\n",
      "+--------+------+-------------+-------------------+\n",
      "|      gt| model| arrival_time|      creation_time|\n",
      "+--------+------+-------------+-------------------+\n",
      "|stairsup|nexus4|1424687983801|1424689829851420571|\n",
      "|stairsup|nexus4|1424687984163|1424687982169917952|\n",
      "|stairsup|nexus4|1424687984571|1424687982572835163|\n",
      "|stairsup|nexus4|1424687984972|1424687982975667195|\n",
      "|stairsup|nexus4|1424687985370|1424687983379305060|\n",
      "|stairsup|nexus4|1424687985773|1424687983776247199|\n",
      "|stairsup|nexus4|1424687986176|1424687984179201300|\n",
      "|stairsup|nexus4|1424687986585|1424687984587465460|\n",
      "|stairsup|nexus4|1424687986982|1424687984990016762|\n",
      "|stairsup|nexus4|1424687987391|1424687985392940346|\n",
      "|stairsup|nexus4|1424687987786|1424687985795693382|\n",
      "|stairsup|nexus4|1424687988071|1424689834116578018|\n",
      "|stairsup|nexus4|1424687988275|1424687986284249290|\n",
      "|stairsup|nexus4|1424687988475|1424689834519410049|\n",
      "|stairsup|nexus4|1424687988677|1424687986681893333|\n",
      "|stairsup|nexus4|1424687988875|1424689834922242080|\n",
      "|stairsup|nexus4|1424687989077|1424687987084908470|\n",
      "|stairsup|nexus4|1424687989282|1424689835337281647|\n",
      "|stairsup|nexus4|1424687989482|1424687987487887228|\n",
      "|stairsup|nexus4|1424687989685|1424687987694399679|\n",
      "+--------+------+-------------+-------------------+\n",
      "only showing top 20 rows\n",
      "\n",
      "+--------+------+-------------+-------------------+\n",
      "|      gt| model| arrival_time|      creation_time|\n",
      "+--------+------+-------------+-------------------+\n",
      "|stairsup|nexus4|1424687983801|1424689829851420571|\n",
      "|stairsup|nexus4|1424687984163|1424687982169917952|\n",
      "|stairsup|nexus4|1424687984571|1424687982572835163|\n",
      "|stairsup|nexus4|1424687984972|1424687982975667195|\n",
      "|stairsup|nexus4|1424687985370|1424687983379305060|\n",
      "|stairsup|nexus4|1424687985773|1424687983776247199|\n",
      "|stairsup|nexus4|1424687986176|1424687984179201300|\n",
      "|stairsup|nexus4|1424687986585|1424687984587465460|\n",
      "|stairsup|nexus4|1424687986982|1424687984990016762|\n",
      "|stairsup|nexus4|1424687987391|1424687985392940346|\n",
      "|stairsup|nexus4|1424687987786|1424687985795693382|\n",
      "|stairsup|nexus4|1424687988071|1424689834116578018|\n",
      "|stairsup|nexus4|1424687988275|1424687986284249290|\n",
      "|stairsup|nexus4|1424687988475|1424689834519410049|\n",
      "|stairsup|nexus4|1424687988677|1424687986681893333|\n",
      "|stairsup|nexus4|1424687988875|1424689834922242080|\n",
      "|stairsup|nexus4|1424687989077|1424687987084908470|\n",
      "|stairsup|nexus4|1424687989282|1424689835337281647|\n",
      "|stairsup|nexus4|1424687989482|1424687987487887228|\n",
      "|stairsup|nexus4|1424687989685|1424687987694399679|\n",
      "+--------+------+-------------+-------------------+\n",
      "only showing top 20 rows\n",
      "\n",
      "+--------+------+-------------+-------------------+\n",
      "|      gt| model| arrival_time|      creation_time|\n",
      "+--------+------+-------------+-------------------+\n",
      "|stairsup|nexus4|1424687983801|1424689829851420571|\n",
      "|stairsup|nexus4|1424687984163|1424687982169917952|\n",
      "|stairsup|nexus4|1424687984571|1424687982572835163|\n",
      "|stairsup|nexus4|1424687984972|1424687982975667195|\n",
      "|stairsup|nexus4|1424687985370|1424687983379305060|\n",
      "|stairsup|nexus4|1424687985773|1424687983776247199|\n",
      "|stairsup|nexus4|1424687986176|1424687984179201300|\n",
      "|stairsup|nexus4|1424687986585|1424687984587465460|\n",
      "|stairsup|nexus4|1424687986982|1424687984990016762|\n",
      "|stairsup|nexus4|1424687987391|1424687985392940346|\n",
      "|stairsup|nexus4|1424687987786|1424687985795693382|\n",
      "|stairsup|nexus4|1424687988071|1424689834116578018|\n",
      "|stairsup|nexus4|1424687988275|1424687986284249290|\n",
      "|stairsup|nexus4|1424687988475|1424689834519410049|\n",
      "|stairsup|nexus4|1424687988677|1424687986681893333|\n",
      "|stairsup|nexus4|1424687988875|1424689834922242080|\n",
      "|stairsup|nexus4|1424687989077|1424687987084908470|\n",
      "|stairsup|nexus4|1424687989282|1424689835337281647|\n",
      "|stairsup|nexus4|1424687989482|1424687987487887228|\n",
      "|stairsup|nexus4|1424687989685|1424687987694399679|\n",
      "+--------+------+-------------+-------------------+\n",
      "only showing top 20 rows\n",
      "\n"
     ]
    }
   ],
   "source": [
    "for x in range(5):\n",
    "    spark.sql(\"SELECT * FROM simple_transform\").show()\n",
    "    sleep(1)"
   ]
  },
  {
   "cell_type": "code",
   "execution_count": 11,
   "metadata": {},
   "outputs": [],
   "source": [
    "deviceModelStats = streaming.cube(\"gt\", \"model\").avg()\\\n",
    ".drop(\"avg(Arrival_time)\")\\\n",
    ".drop(\"avg(Creation_time)\")\\\n",
    ".drop(\"avg(Index)\")\\\n",
    ".writeStream.queryName(\"device_counts\").format(\"memory\")\\\n",
    ".outputMode(\"complete\")\\\n",
    ".start()"
   ]
  },
  {
   "cell_type": "code",
   "execution_count": 14,
   "metadata": {},
   "outputs": [
    {
     "name": "stdout",
     "output_type": "stream",
     "text": [
      "+----------+------+--------------------+--------------------+--------------------+\n",
      "|        gt| model|              avg(x)|              avg(y)|              avg(z)|\n",
      "+----------+------+--------------------+--------------------+--------------------+\n",
      "|       sit|  null|-5.49433244039590...|2.791446281700071...|-2.33994461689892...|\n",
      "|     stand|  null|-3.11082189691727...|3.218461665975322E-4|2.141300040636463...|\n",
      "|       sit|nexus4|-5.49433244039590...|2.791446281700071...|-2.33994461689892...|\n",
      "|     stand|nexus4|-3.11082189691727...|3.218461665975322E-4|2.141300040636463...|\n",
      "|      null|  null|-0.00847688860109...|-7.30455258739179...|0.003090601491419...|\n",
      "|      null|  null|4.796918779024285...|-0.00601540958963...|-0.01013356489164...|\n",
      "|      walk|  null|-0.00390116006094368|0.001052508689953...|-6.95435553042998...|\n",
      "|      null|nexus4|-0.00847688860109...|-7.30455258739179...|0.003090601491419...|\n",
      "|      null|nexus4|4.796918779024285...|-0.00601540958963...|-0.01013356489164...|\n",
      "|      bike|  null|0.022688759550866824|-0.00877912156368...| -0.0825100166341237|\n",
      "|  stairsup|  null|-0.02479965287771...|-0.00800392344379487| -0.1003408841506041|\n",
      "|stairsdown|  null|0.021613908669165332|-0.03249018824752...| 0.12035922691504056|\n",
      "|      bike|nexus4|0.022688759550866824|-0.00877912156368...| -0.0825100166341237|\n",
      "|      walk|nexus4|-0.00390116006094368|0.001052508689953...|-6.95435553042998...|\n",
      "|stairsdown|nexus4|0.021613908669165332|-0.03249018824752...| 0.12035922691504056|\n",
      "|  stairsup|nexus4|-0.02479965287771...|-0.00800392344379487| -0.1003408841506041|\n",
      "+----------+------+--------------------+--------------------+--------------------+\n",
      "\n"
     ]
    }
   ],
   "source": [
    "spark.sql(\"SELECT * FROM device_counts\").show()"
   ]
  },
  {
   "cell_type": "code",
   "execution_count": 17,
   "metadata": {},
   "outputs": [],
   "source": [
    "historicalAgg = static.groupBy(\"gt\", \"model\").avg()\n",
    "deviceModelStats = streaming.drop(\"Arrival_Time\", \"Creation_Time\", \"Index\")\\\n",
    ".cube(\"gt\", \"model\").avg()\\\n",
    ".join(historicalAgg, [\"gt\", \"model\"])\\\n",
    ".writeStream.queryName(\"device_counts2\").format(\"memory\")\\\n",
    ".outputMode(\"complete\")\\\n",
    ".start()"
   ]
  },
  {
   "cell_type": "code",
   "execution_count": 18,
   "metadata": {},
   "outputs": [
    {
     "name": "stdout",
     "output_type": "stream",
     "text": [
      "+----------+------+--------------------+--------------------+--------------------+--------------------+--------------------+------------------+--------------------+--------------------+--------------------+\n",
      "|        gt| model|              avg(x)|              avg(y)|              avg(z)|   avg(Arrival_Time)|  avg(Creation_Time)|        avg(Index)|              avg(x)|              avg(y)|              avg(z)|\n",
      "+----------+------+--------------------+--------------------+--------------------+--------------------+--------------------+------------------+--------------------+--------------------+--------------------+\n",
      "|      bike|nexus4|0.022053835926832677|-0.00772777772292...|-0.08268948063260596|1.424751134339994...|1.424752127369584...| 326459.6867328154|0.022688759550866806|-0.00877912156368...|-0.08251001663412365|\n",
      "|      null|nexus4|-0.00982860465547198|-0.00186991035669...|0.003838601511463615|1.424749002876345...|1.424749919482134...| 219276.9663669269|-0.00847688860109...|-7.30455258739192...|0.003090601491419...|\n",
      "|stairsdown|nexus4|0.022621557776733938|-0.03017741854091935| 0.12146678509952712|1.424744591412856E12|1.424745503635639...|230452.44623187225|0.021613908669165464|-0.03249018824752...| 0.12035922691504067|\n",
      "|     stand|nexus4|-3.82262973870054...|3.651377597723797...|8.203547296785143E-5|1.424743637921213...|1.424744579547468...|31317.877585550017|-3.11082189691721E-4|3.218461665975334E-4|2.141300040636492...|\n",
      "|      walk|nexus4|-0.00318094352114...|0.004008736401793467|-0.00133235043429...|1.424746420641792...|1.424747351060676...|149760.09974990616|-0.00390116006094...|0.001052508689953...|-6.95435553042994...|\n",
      "|       sit|nexus4|-6.06431902522950...|2.946051775011899...|-1.78161764878320...|1.424741207868237...|1.424742112220356...| 74577.84690275553|-5.49433244039564E-4|2.791446281700065...|-2.33994461689894...|\n",
      "|  stairsup|nexus4|-0.02272185290154...|-0.00705851725614...|-0.09996372201186542|1.424745996101168E12|1.424746915892740...|227912.96550673083|-0.02479965287771...|-0.00800392344379...|-0.10034088415060394|\n",
      "+----------+------+--------------------+--------------------+--------------------+--------------------+--------------------+------------------+--------------------+--------------------+--------------------+\n",
      "\n"
     ]
    }
   ],
   "source": [
    "spark.sql(\"SELECT * FROM device_counts2\").show()"
   ]
  },
  {
   "cell_type": "markdown",
   "metadata": {},
   "source": [
    "# 22장"
   ]
  },
  {
   "cell_type": "code",
   "execution_count": 20,
   "metadata": {},
   "outputs": [
    {
     "name": "stdout",
     "output_type": "stream",
     "text": [
      "root\n",
      " |-- Arrival_Time: long (nullable = true)\n",
      " |-- Creation_Time: long (nullable = true)\n",
      " |-- Device: string (nullable = true)\n",
      " |-- Index: long (nullable = true)\n",
      " |-- Model: string (nullable = true)\n",
      " |-- User: string (nullable = true)\n",
      " |-- gt: string (nullable = true)\n",
      " |-- x: double (nullable = true)\n",
      " |-- y: double (nullable = true)\n",
      " |-- z: double (nullable = true)\n",
      "\n"
     ]
    }
   ],
   "source": [
    "spark.conf.set(\"spark.sql.shuffle.partitions\", 5)\n",
    "\n",
    "static = spark.read.json(\"data/activity-data\")\n",
    "streaming = spark.readStream\\\n",
    ".schema(static.schema)\\\n",
    ".option(\"maxFilesPerTrigger\", 10)\\\n",
    ".json(\"data/activity-data\")\n",
    "\n",
    "streaming.printSchema()"
   ]
  },
  {
   "cell_type": "code",
   "execution_count": 21,
   "metadata": {},
   "outputs": [],
   "source": [
    "withEventTime = streaming.selectExpr(\n",
    "\"*\",\n",
    "\"cast(cast(Creation_Time as double)/1000000000 as timestamp) as event_time\")"
   ]
  },
  {
   "cell_type": "code",
   "execution_count": 22,
   "metadata": {},
   "outputs": [
    {
     "data": {
      "text/plain": [
       "<pyspark.sql.streaming.StreamingQuery at 0x7f8fa49de550>"
      ]
     },
     "execution_count": 22,
     "metadata": {},
     "output_type": "execute_result"
    }
   ],
   "source": [
    "from pyspark.sql.functions import col, window\n",
    "\n",
    "withEventTime.groupBy(window(col(\"event_time\"), \"10 minutes\")).count()\\\n",
    ".writeStream\\\n",
    ".queryName(\"pyevents_per_window\")\\\n",
    ".format(\"memory\")\\\n",
    ".outputMode(\"complete\")\\\n",
    ".start()"
   ]
  },
  {
   "cell_type": "code",
   "execution_count": 24,
   "metadata": {},
   "outputs": [
    {
     "name": "stdout",
     "output_type": "stream",
     "text": [
      "+--------------------+------+\n",
      "|              window| count|\n",
      "+--------------------+------+\n",
      "|[2015-02-22 09:40...|    35|\n",
      "|[2015-02-23 19:10...| 11515|\n",
      "|[2015-02-23 19:20...| 99178|\n",
      "|[2015-02-23 19:30...|100443|\n",
      "|[2015-02-23 19:40...| 88681|\n",
      "|[2015-02-23 19:50...|160775|\n",
      "|[2015-02-23 20:00...|106232|\n",
      "|[2015-02-23 20:10...| 91382|\n",
      "|[2015-02-23 20:20...| 75181|\n",
      "|[2015-02-23 21:10...| 58984|\n",
      "|[2015-02-23 21:20...|106291|\n",
      "|[2015-02-23 21:30...|100853|\n",
      "|[2015-02-23 21:40...| 97897|\n",
      "|[2015-02-23 21:50...|105160|\n",
      "|[2015-02-23 22:00...|165556|\n",
      "|[2015-02-23 22:10...|162075|\n",
      "|[2015-02-23 22:20...|106075|\n",
      "|[2015-02-23 22:30...| 96480|\n",
      "|[2015-02-23 22:40...|167565|\n",
      "|[2015-02-23 22:50...|193453|\n",
      "+--------------------+------+\n",
      "only showing top 20 rows\n",
      "\n"
     ]
    }
   ],
   "source": [
    "spark.sql(\"SELECT * FROM pyevents_per_window ORDER BY window\").show()"
   ]
  },
  {
   "cell_type": "code",
   "execution_count": 25,
   "metadata": {},
   "outputs": [
    {
     "data": {
      "text/plain": [
       "<pyspark.sql.streaming.StreamingQuery at 0x7f8fa49e4d90>"
      ]
     },
     "execution_count": 25,
     "metadata": {},
     "output_type": "execute_result"
    }
   ],
   "source": [
    "withEventTime.groupBy(window(col(\"event_time\"), \"10 minutes\", \"5 minutes\")).count()\\\n",
    ".writeStream\\\n",
    ".queryName(\"pyevents_per_window2\")\\\n",
    ".format(\"memory\")\\\n",
    ".outputMode(\"complete\")\\\n",
    ".start()"
   ]
  },
  {
   "cell_type": "code",
   "execution_count": 29,
   "metadata": {},
   "outputs": [
    {
     "name": "stdout",
     "output_type": "stream",
     "text": [
      "+------------------------------------------+------+\n",
      "|window                                    |count |\n",
      "+------------------------------------------+------+\n",
      "|[2015-02-22 09:35:00, 2015-02-22 09:45:00]|35    |\n",
      "|[2015-02-22 09:40:00, 2015-02-22 09:50:00]|35    |\n",
      "|[2015-02-23 19:10:00, 2015-02-23 19:20:00]|11515 |\n",
      "|[2015-02-23 19:15:00, 2015-02-23 19:25:00]|55686 |\n",
      "|[2015-02-23 19:20:00, 2015-02-23 19:30:00]|99178 |\n",
      "|[2015-02-23 19:25:00, 2015-02-23 19:35:00]|101286|\n",
      "|[2015-02-23 19:30:00, 2015-02-23 19:40:00]|100443|\n",
      "|[2015-02-23 19:35:00, 2015-02-23 19:45:00]|98969 |\n",
      "|[2015-02-23 19:40:00, 2015-02-23 19:50:00]|88681 |\n",
      "|[2015-02-23 19:45:00, 2015-02-23 19:55:00]|132708|\n",
      "|[2015-02-23 19:50:00, 2015-02-23 20:00:00]|160775|\n",
      "|[2015-02-23 19:55:00, 2015-02-23 20:05:00]|120218|\n",
      "|[2015-02-23 20:00:00, 2015-02-23 20:10:00]|106232|\n",
      "|[2015-02-23 20:05:00, 2015-02-23 20:15:00]|101780|\n",
      "|[2015-02-23 20:10:00, 2015-02-23 20:20:00]|91382 |\n",
      "|[2015-02-23 20:15:00, 2015-02-23 20:25:00]|92946 |\n",
      "|[2015-02-23 20:20:00, 2015-02-23 20:30:00]|75181 |\n",
      "|[2015-02-23 20:25:00, 2015-02-23 20:35:00]|29794 |\n",
      "|[2015-02-23 21:05:00, 2015-02-23 21:15:00]|14805 |\n",
      "|[2015-02-23 21:10:00, 2015-02-23 21:20:00]|58984 |\n",
      "+------------------------------------------+------+\n",
      "only showing top 20 rows\n",
      "\n"
     ]
    }
   ],
   "source": [
    "spark.sql(\"SELECT * FROM pyevents_per_window2 ORDER BY window\").show(20, False)"
   ]
  },
  {
   "cell_type": "code",
   "execution_count": 30,
   "metadata": {},
   "outputs": [
    {
     "data": {
      "text/plain": [
       "<pyspark.sql.streaming.StreamingQuery at 0x7f8fa49fcc90>"
      ]
     },
     "execution_count": 30,
     "metadata": {},
     "output_type": "execute_result"
    }
   ],
   "source": [
    "withEventTime.withWatermark(\"event_time\", \"30 minutes\")\\\n",
    ".groupBy(window(col(\"event_time\"), \"10 minutes\", \"5 minutes\")).count()\\\n",
    ".writeStream\\\n",
    ".queryName(\"pyevents_per_window3\")\\\n",
    ".format(\"memory\")\\\n",
    ".outputMode(\"complete\")\\\n",
    ".start()"
   ]
  },
  {
   "cell_type": "code",
   "execution_count": 32,
   "metadata": {},
   "outputs": [
    {
     "name": "stdout",
     "output_type": "stream",
     "text": [
      "+------------------------------------------+------+\n",
      "|window                                    |count |\n",
      "+------------------------------------------+------+\n",
      "|[2015-02-22 09:35:00, 2015-02-22 09:45:00]|35    |\n",
      "|[2015-02-22 09:40:00, 2015-02-22 09:50:00]|35    |\n",
      "|[2015-02-23 19:10:00, 2015-02-23 19:20:00]|11515 |\n",
      "|[2015-02-23 19:15:00, 2015-02-23 19:25:00]|55686 |\n",
      "|[2015-02-23 19:20:00, 2015-02-23 19:30:00]|99178 |\n",
      "|[2015-02-23 19:25:00, 2015-02-23 19:35:00]|101286|\n",
      "|[2015-02-23 19:30:00, 2015-02-23 19:40:00]|100443|\n",
      "|[2015-02-23 19:35:00, 2015-02-23 19:45:00]|98969 |\n",
      "|[2015-02-23 19:40:00, 2015-02-23 19:50:00]|88681 |\n",
      "|[2015-02-23 19:45:00, 2015-02-23 19:55:00]|132708|\n",
      "|[2015-02-23 19:50:00, 2015-02-23 20:00:00]|160775|\n",
      "|[2015-02-23 19:55:00, 2015-02-23 20:05:00]|120218|\n",
      "|[2015-02-23 20:00:00, 2015-02-23 20:10:00]|106232|\n",
      "|[2015-02-23 20:05:00, 2015-02-23 20:15:00]|101780|\n",
      "|[2015-02-23 20:10:00, 2015-02-23 20:20:00]|91382 |\n",
      "|[2015-02-23 20:15:00, 2015-02-23 20:25:00]|92946 |\n",
      "|[2015-02-23 20:20:00, 2015-02-23 20:30:00]|75181 |\n",
      "|[2015-02-23 20:25:00, 2015-02-23 20:35:00]|29794 |\n",
      "|[2015-02-23 21:05:00, 2015-02-23 21:15:00]|14805 |\n",
      "|[2015-02-23 21:10:00, 2015-02-23 21:20:00]|58984 |\n",
      "+------------------------------------------+------+\n",
      "only showing top 20 rows\n",
      "\n"
     ]
    }
   ],
   "source": [
    "spark.sql(\"SELECT * FROM pyevents_per_window3 ORDER BY window\").show(20, False)"
   ]
  },
  {
   "cell_type": "code",
   "execution_count": 33,
   "metadata": {},
   "outputs": [
    {
     "data": {
      "text/plain": [
       "<pyspark.sql.streaming.StreamingQuery at 0x7f8fa49dedd0>"
      ]
     },
     "execution_count": 33,
     "metadata": {},
     "output_type": "execute_result"
    }
   ],
   "source": [
    "withEventTime.withWatermark(\"event_time\", \"5 seconds\")\\\n",
    ".dropDuplicates([\"User\", \"event_time\"])\\\n",
    ".groupBy(\"User\").count()\\\n",
    ".writeStream\\\n",
    ".queryName(\"pydeduplicated\")\\\n",
    ".format(\"memory\")\\\n",
    ".outputMode(\"complete\")\\\n",
    ".start()"
   ]
  },
  {
   "cell_type": "code",
   "execution_count": 34,
   "metadata": {},
   "outputs": [
    {
     "name": "stdout",
     "output_type": "stream",
     "text": [
      "+----+-----+\n",
      "|User|count|\n",
      "+----+-----+\n",
      "|a   |80854|\n",
      "|b   |91239|\n",
      "|c   |77155|\n",
      "|d   |81245|\n",
      "|e   |96904|\n",
      "|f   |92056|\n",
      "|g   |91673|\n",
      "|h   |77326|\n",
      "|i   |92553|\n",
      "+----+-----+\n",
      "\n"
     ]
    }
   ],
   "source": [
    "spark.sql(\"SELECT * FROM pydeduplicated ORDER BY User\").show(20, False)"
   ]
  },
  {
   "cell_type": "code",
   "execution_count": null,
   "metadata": {},
   "outputs": [],
   "source": []
  }
 ],
 "metadata": {
  "kernelspec": {
   "display_name": "Python 3",
   "language": "python",
   "name": "python3"
  },
  "language_info": {
   "codemirror_mode": {
    "name": "ipython",
    "version": 3
   },
   "file_extension": ".py",
   "mimetype": "text/x-python",
   "name": "python",
   "nbconvert_exporter": "python",
   "pygments_lexer": "ipython3",
   "version": "3.7.7"
  }
 },
 "nbformat": 4,
 "nbformat_minor": 4
}
